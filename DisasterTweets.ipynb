{
  "nbformat": 4,
  "nbformat_minor": 0,
  "metadata": {
    "colab": {
      "name": "DisasterTweets",
      "provenance": [],
      "collapsed_sections": [],
      "authorship_tag": "ABX9TyPYqK5g2Mij69juCkWHvkAS",
      "include_colab_link": true
    },
    "kernelspec": {
      "name": "python3",
      "display_name": "Python 3"
    },
    "accelerator": "GPU",
    "widgets": {
      "application/vnd.jupyter.widget-state+json": {
        "2b611e0689fb4d0daebbf5bfd09675ef": {
          "model_module": "@jupyter-widgets/controls",
          "model_name": "HBoxModel",
          "state": {
            "_view_name": "HBoxView",
            "_dom_classes": [],
            "_model_name": "HBoxModel",
            "_view_module": "@jupyter-widgets/controls",
            "_model_module_version": "1.5.0",
            "_view_count": null,
            "_view_module_version": "1.5.0",
            "box_style": "",
            "layout": "IPY_MODEL_a69f5d9afd1f46998d320d66cfd13d68",
            "_model_module": "@jupyter-widgets/controls",
            "children": [
              "IPY_MODEL_bb39677a38804958b6734a10ed31a776",
              "IPY_MODEL_7267066952d34a22990cdc6a95a806a6"
            ]
          }
        },
        "a69f5d9afd1f46998d320d66cfd13d68": {
          "model_module": "@jupyter-widgets/base",
          "model_name": "LayoutModel",
          "state": {
            "_view_name": "LayoutView",
            "grid_template_rows": null,
            "right": null,
            "justify_content": null,
            "_view_module": "@jupyter-widgets/base",
            "overflow": null,
            "_model_module_version": "1.2.0",
            "_view_count": null,
            "flex_flow": null,
            "width": null,
            "min_width": null,
            "border": null,
            "align_items": null,
            "bottom": null,
            "_model_module": "@jupyter-widgets/base",
            "top": null,
            "grid_column": null,
            "overflow_y": null,
            "overflow_x": null,
            "grid_auto_flow": null,
            "grid_area": null,
            "grid_template_columns": null,
            "flex": null,
            "_model_name": "LayoutModel",
            "justify_items": null,
            "grid_row": null,
            "max_height": null,
            "align_content": null,
            "visibility": null,
            "align_self": null,
            "height": null,
            "min_height": null,
            "padding": null,
            "grid_auto_rows": null,
            "grid_gap": null,
            "max_width": null,
            "order": null,
            "_view_module_version": "1.2.0",
            "grid_template_areas": null,
            "object_position": null,
            "object_fit": null,
            "grid_auto_columns": null,
            "margin": null,
            "display": null,
            "left": null
          }
        },
        "bb39677a38804958b6734a10ed31a776": {
          "model_module": "@jupyter-widgets/controls",
          "model_name": "FloatProgressModel",
          "state": {
            "_view_name": "ProgressView",
            "style": "IPY_MODEL_5f6640cbb3744fd68d2b2fdf3a9af470",
            "_dom_classes": [],
            "description": "Downloading: 100%",
            "_model_name": "FloatProgressModel",
            "bar_style": "success",
            "max": 231508,
            "_view_module": "@jupyter-widgets/controls",
            "_model_module_version": "1.5.0",
            "value": 231508,
            "_view_count": null,
            "_view_module_version": "1.5.0",
            "orientation": "horizontal",
            "min": 0,
            "description_tooltip": null,
            "_model_module": "@jupyter-widgets/controls",
            "layout": "IPY_MODEL_d0de8f514e7f4c5fbd21a16a4282e3bb"
          }
        },
        "7267066952d34a22990cdc6a95a806a6": {
          "model_module": "@jupyter-widgets/controls",
          "model_name": "HTMLModel",
          "state": {
            "_view_name": "HTMLView",
            "style": "IPY_MODEL_66a7f354f3b04924bf87c4a505f5c464",
            "_dom_classes": [],
            "description": "",
            "_model_name": "HTMLModel",
            "placeholder": "​",
            "_view_module": "@jupyter-widgets/controls",
            "_model_module_version": "1.5.0",
            "value": " 232k/232k [00:00&lt;00:00, 815kB/s]",
            "_view_count": null,
            "_view_module_version": "1.5.0",
            "description_tooltip": null,
            "_model_module": "@jupyter-widgets/controls",
            "layout": "IPY_MODEL_29a80a86779a4153a0107c0ac357fc77"
          }
        },
        "5f6640cbb3744fd68d2b2fdf3a9af470": {
          "model_module": "@jupyter-widgets/controls",
          "model_name": "ProgressStyleModel",
          "state": {
            "_view_name": "StyleView",
            "_model_name": "ProgressStyleModel",
            "description_width": "initial",
            "_view_module": "@jupyter-widgets/base",
            "_model_module_version": "1.5.0",
            "_view_count": null,
            "_view_module_version": "1.2.0",
            "bar_color": null,
            "_model_module": "@jupyter-widgets/controls"
          }
        },
        "d0de8f514e7f4c5fbd21a16a4282e3bb": {
          "model_module": "@jupyter-widgets/base",
          "model_name": "LayoutModel",
          "state": {
            "_view_name": "LayoutView",
            "grid_template_rows": null,
            "right": null,
            "justify_content": null,
            "_view_module": "@jupyter-widgets/base",
            "overflow": null,
            "_model_module_version": "1.2.0",
            "_view_count": null,
            "flex_flow": null,
            "width": null,
            "min_width": null,
            "border": null,
            "align_items": null,
            "bottom": null,
            "_model_module": "@jupyter-widgets/base",
            "top": null,
            "grid_column": null,
            "overflow_y": null,
            "overflow_x": null,
            "grid_auto_flow": null,
            "grid_area": null,
            "grid_template_columns": null,
            "flex": null,
            "_model_name": "LayoutModel",
            "justify_items": null,
            "grid_row": null,
            "max_height": null,
            "align_content": null,
            "visibility": null,
            "align_self": null,
            "height": null,
            "min_height": null,
            "padding": null,
            "grid_auto_rows": null,
            "grid_gap": null,
            "max_width": null,
            "order": null,
            "_view_module_version": "1.2.0",
            "grid_template_areas": null,
            "object_position": null,
            "object_fit": null,
            "grid_auto_columns": null,
            "margin": null,
            "display": null,
            "left": null
          }
        },
        "66a7f354f3b04924bf87c4a505f5c464": {
          "model_module": "@jupyter-widgets/controls",
          "model_name": "DescriptionStyleModel",
          "state": {
            "_view_name": "StyleView",
            "_model_name": "DescriptionStyleModel",
            "description_width": "",
            "_view_module": "@jupyter-widgets/base",
            "_model_module_version": "1.5.0",
            "_view_count": null,
            "_view_module_version": "1.2.0",
            "_model_module": "@jupyter-widgets/controls"
          }
        },
        "29a80a86779a4153a0107c0ac357fc77": {
          "model_module": "@jupyter-widgets/base",
          "model_name": "LayoutModel",
          "state": {
            "_view_name": "LayoutView",
            "grid_template_rows": null,
            "right": null,
            "justify_content": null,
            "_view_module": "@jupyter-widgets/base",
            "overflow": null,
            "_model_module_version": "1.2.0",
            "_view_count": null,
            "flex_flow": null,
            "width": null,
            "min_width": null,
            "border": null,
            "align_items": null,
            "bottom": null,
            "_model_module": "@jupyter-widgets/base",
            "top": null,
            "grid_column": null,
            "overflow_y": null,
            "overflow_x": null,
            "grid_auto_flow": null,
            "grid_area": null,
            "grid_template_columns": null,
            "flex": null,
            "_model_name": "LayoutModel",
            "justify_items": null,
            "grid_row": null,
            "max_height": null,
            "align_content": null,
            "visibility": null,
            "align_self": null,
            "height": null,
            "min_height": null,
            "padding": null,
            "grid_auto_rows": null,
            "grid_gap": null,
            "max_width": null,
            "order": null,
            "_view_module_version": "1.2.0",
            "grid_template_areas": null,
            "object_position": null,
            "object_fit": null,
            "grid_auto_columns": null,
            "margin": null,
            "display": null,
            "left": null
          }
        }
      }
    }
  },
  "cells": [
    {
      "cell_type": "markdown",
      "metadata": {
        "id": "view-in-github",
        "colab_type": "text"
      },
      "source": [
        "<a href=\"https://colab.research.google.com/github/miketibb/DisasterTweets/blob/main/DisasterTweets.ipynb\" target=\"_parent\"><img src=\"https://colab.research.google.com/assets/colab-badge.svg\" alt=\"Open In Colab\"/></a>"
      ]
    },
    {
      "cell_type": "code",
      "metadata": {
        "id": "VXld7MhFDOoV",
        "colab": {
          "base_uri": "https://localhost:8080/"
        },
        "outputId": "87ad8e97-a458-4b93-f3c3-ac0aaf9c3d48"
      },
      "source": [
        "from google.colab import drive\r\n",
        "drive.mount('/content/drive')"
      ],
      "execution_count": 1,
      "outputs": [
        {
          "output_type": "stream",
          "text": [
            "Mounted at /content/drive\n"
          ],
          "name": "stdout"
        }
      ]
    },
    {
      "cell_type": "code",
      "metadata": {
        "colab": {
          "base_uri": "https://localhost:8080/"
        },
        "id": "Zg8NenOattTA",
        "outputId": "191f3a94-8c9a-45b2-ad46-92b2c7f9d5fc"
      },
      "source": [
        "!pip install transformers"
      ],
      "execution_count": 2,
      "outputs": [
        {
          "output_type": "stream",
          "text": [
            "Collecting transformers\n",
            "\u001b[?25l  Downloading https://files.pythonhosted.org/packages/50/0c/7d5950fcd80b029be0a8891727ba21e0cd27692c407c51261c3c921f6da3/transformers-4.1.1-py3-none-any.whl (1.5MB)\n",
            "\u001b[K     |████████████████████████████████| 1.5MB 7.3MB/s \n",
            "\u001b[?25hRequirement already satisfied: filelock in /usr/local/lib/python3.6/dist-packages (from transformers) (3.0.12)\n",
            "Collecting tokenizers==0.9.4\n",
            "\u001b[?25l  Downloading https://files.pythonhosted.org/packages/0f/1c/e789a8b12e28be5bc1ce2156cf87cb522b379be9cadc7ad8091a4cc107c4/tokenizers-0.9.4-cp36-cp36m-manylinux2010_x86_64.whl (2.9MB)\n",
            "\u001b[K     |████████████████████████████████| 2.9MB 30.0MB/s \n",
            "\u001b[?25hCollecting sacremoses\n",
            "\u001b[?25l  Downloading https://files.pythonhosted.org/packages/7d/34/09d19aff26edcc8eb2a01bed8e98f13a1537005d31e95233fd48216eed10/sacremoses-0.0.43.tar.gz (883kB)\n",
            "\u001b[K     |████████████████████████████████| 890kB 56.2MB/s \n",
            "\u001b[?25hRequirement already satisfied: numpy in /usr/local/lib/python3.6/dist-packages (from transformers) (1.19.4)\n",
            "Requirement already satisfied: tqdm>=4.27 in /usr/local/lib/python3.6/dist-packages (from transformers) (4.41.1)\n",
            "Requirement already satisfied: packaging in /usr/local/lib/python3.6/dist-packages (from transformers) (20.8)\n",
            "Requirement already satisfied: requests in /usr/local/lib/python3.6/dist-packages (from transformers) (2.23.0)\n",
            "Requirement already satisfied: regex!=2019.12.17 in /usr/local/lib/python3.6/dist-packages (from transformers) (2019.12.20)\n",
            "Requirement already satisfied: dataclasses; python_version < \"3.7\" in /usr/local/lib/python3.6/dist-packages (from transformers) (0.8)\n",
            "Requirement already satisfied: six in /usr/local/lib/python3.6/dist-packages (from sacremoses->transformers) (1.15.0)\n",
            "Requirement already satisfied: click in /usr/local/lib/python3.6/dist-packages (from sacremoses->transformers) (7.1.2)\n",
            "Requirement already satisfied: joblib in /usr/local/lib/python3.6/dist-packages (from sacremoses->transformers) (1.0.0)\n",
            "Requirement already satisfied: pyparsing>=2.0.2 in /usr/local/lib/python3.6/dist-packages (from packaging->transformers) (2.4.7)\n",
            "Requirement already satisfied: certifi>=2017.4.17 in /usr/local/lib/python3.6/dist-packages (from requests->transformers) (2020.12.5)\n",
            "Requirement already satisfied: urllib3!=1.25.0,!=1.25.1,<1.26,>=1.21.1 in /usr/local/lib/python3.6/dist-packages (from requests->transformers) (1.24.3)\n",
            "Requirement already satisfied: idna<3,>=2.5 in /usr/local/lib/python3.6/dist-packages (from requests->transformers) (2.10)\n",
            "Requirement already satisfied: chardet<4,>=3.0.2 in /usr/local/lib/python3.6/dist-packages (from requests->transformers) (3.0.4)\n",
            "Building wheels for collected packages: sacremoses\n",
            "  Building wheel for sacremoses (setup.py) ... \u001b[?25l\u001b[?25hdone\n",
            "  Created wheel for sacremoses: filename=sacremoses-0.0.43-cp36-none-any.whl size=893261 sha256=a64f704c0f922ee0b2f1eadf1b47d3330164468cc0d682335de1f57824594413\n",
            "  Stored in directory: /root/.cache/pip/wheels/29/3c/fd/7ce5c3f0666dab31a50123635e6fb5e19ceb42ce38d4e58f45\n",
            "Successfully built sacremoses\n",
            "Installing collected packages: tokenizers, sacremoses, transformers\n",
            "Successfully installed sacremoses-0.0.43 tokenizers-0.9.4 transformers-4.1.1\n"
          ],
          "name": "stdout"
        }
      ]
    },
    {
      "cell_type": "code",
      "metadata": {
        "colab": {
          "base_uri": "https://localhost:8080/",
          "height": 204
        },
        "id": "aAd_8y4oYW1c",
        "outputId": "1319efed-5d84-4811-f170-72b244e4b5d3"
      },
      "source": [
        "import pandas as pd\r\n",
        "\r\n",
        "pd.read_csv('train.csv').head()"
      ],
      "execution_count": 29,
      "outputs": [
        {
          "output_type": "execute_result",
          "data": {
            "text/html": [
              "<div>\n",
              "<style scoped>\n",
              "    .dataframe tbody tr th:only-of-type {\n",
              "        vertical-align: middle;\n",
              "    }\n",
              "\n",
              "    .dataframe tbody tr th {\n",
              "        vertical-align: top;\n",
              "    }\n",
              "\n",
              "    .dataframe thead th {\n",
              "        text-align: right;\n",
              "    }\n",
              "</style>\n",
              "<table border=\"1\" class=\"dataframe\">\n",
              "  <thead>\n",
              "    <tr style=\"text-align: right;\">\n",
              "      <th></th>\n",
              "      <th>id</th>\n",
              "      <th>keyword</th>\n",
              "      <th>location</th>\n",
              "      <th>text</th>\n",
              "      <th>target</th>\n",
              "    </tr>\n",
              "  </thead>\n",
              "  <tbody>\n",
              "    <tr>\n",
              "      <th>0</th>\n",
              "      <td>1</td>\n",
              "      <td>NaN</td>\n",
              "      <td>NaN</td>\n",
              "      <td>Our Deeds are the Reason of this #earthquake M...</td>\n",
              "      <td>1</td>\n",
              "    </tr>\n",
              "    <tr>\n",
              "      <th>1</th>\n",
              "      <td>4</td>\n",
              "      <td>NaN</td>\n",
              "      <td>NaN</td>\n",
              "      <td>Forest fire near La Ronge Sask. Canada</td>\n",
              "      <td>1</td>\n",
              "    </tr>\n",
              "    <tr>\n",
              "      <th>2</th>\n",
              "      <td>5</td>\n",
              "      <td>NaN</td>\n",
              "      <td>NaN</td>\n",
              "      <td>All residents asked to 'shelter in place' are ...</td>\n",
              "      <td>1</td>\n",
              "    </tr>\n",
              "    <tr>\n",
              "      <th>3</th>\n",
              "      <td>6</td>\n",
              "      <td>NaN</td>\n",
              "      <td>NaN</td>\n",
              "      <td>13,000 people receive #wildfires evacuation or...</td>\n",
              "      <td>1</td>\n",
              "    </tr>\n",
              "    <tr>\n",
              "      <th>4</th>\n",
              "      <td>7</td>\n",
              "      <td>NaN</td>\n",
              "      <td>NaN</td>\n",
              "      <td>Just got sent this photo from Ruby #Alaska as ...</td>\n",
              "      <td>1</td>\n",
              "    </tr>\n",
              "  </tbody>\n",
              "</table>\n",
              "</div>"
            ],
            "text/plain": [
              "   id keyword  ...                                               text target\n",
              "0   1     NaN  ...  Our Deeds are the Reason of this #earthquake M...      1\n",
              "1   4     NaN  ...             Forest fire near La Ronge Sask. Canada      1\n",
              "2   5     NaN  ...  All residents asked to 'shelter in place' are ...      1\n",
              "3   6     NaN  ...  13,000 people receive #wildfires evacuation or...      1\n",
              "4   7     NaN  ...  Just got sent this photo from Ruby #Alaska as ...      1\n",
              "\n",
              "[5 rows x 5 columns]"
            ]
          },
          "metadata": {
            "tags": []
          },
          "execution_count": 29
        }
      ]
    },
    {
      "cell_type": "code",
      "metadata": {
        "id": "7bpvk3WS-8gZ"
      },
      "source": [
        "import os\r\n",
        "os.chdir('/content/drive/My Drive/Classes-Research/Kaggle/DisasterTweets/')\r\n",
        "\r\n",
        "source_folder = 'Data'\r\n",
        "destination_folder = 'Models'"
      ],
      "execution_count": 3,
      "outputs": []
    },
    {
      "cell_type": "code",
      "metadata": {
        "id": "t_6K5ILwFI6M"
      },
      "source": [
        "import matplotlib.pyplot as plt\r\n",
        "import pandas as pd\r\n",
        "import torch\r\n",
        "\r\n",
        "from torchtext.data import Field, TabularDataset, BucketIterator, Iterator\r\n",
        "\r\n",
        "import torch.nn as nn\r\n",
        "from transformers import BertTokenizer, BertForSequenceClassification\r\n",
        "\r\n",
        "import torch.optim as optim\r\n",
        "\r\n",
        "from sklearn.metrics import accuracy_score, classification_report, confusion_matrix\r\n",
        "import seaborn as sns"
      ],
      "execution_count": 4,
      "outputs": []
    },
    {
      "cell_type": "code",
      "metadata": {
        "colab": {
          "base_uri": "https://localhost:8080/"
        },
        "id": "JfG6MOaJju1u",
        "outputId": "92deb00b-2967-4b5f-d93f-74782a30c30d"
      },
      "source": [
        "device = torch.device('cuda:0' if torch.cuda.is_available() else 'cpu')\r\n",
        "print(device)"
      ],
      "execution_count": 5,
      "outputs": [
        {
          "output_type": "stream",
          "text": [
            "cuda:0\n"
          ],
          "name": "stdout"
        }
      ]
    },
    {
      "cell_type": "code",
      "metadata": {
        "colab": {
          "base_uri": "https://localhost:8080/",
          "height": 66,
          "referenced_widgets": [
            "2b611e0689fb4d0daebbf5bfd09675ef",
            "a69f5d9afd1f46998d320d66cfd13d68",
            "bb39677a38804958b6734a10ed31a776",
            "7267066952d34a22990cdc6a95a806a6",
            "5f6640cbb3744fd68d2b2fdf3a9af470",
            "d0de8f514e7f4c5fbd21a16a4282e3bb",
            "66a7f354f3b04924bf87c4a505f5c464",
            "29a80a86779a4153a0107c0ac357fc77"
          ]
        },
        "id": "LdjIiTHwrh5P",
        "outputId": "217ed279-1c12-4a5b-98be-e8a3462d2c6a"
      },
      "source": [
        "tokenizer = BertTokenizer.from_pretrained('bert-base-uncased')\r\n",
        "\r\n",
        "MAX_SEQ_LEN = 128\r\n",
        "PAD_INDEX = tokenizer.convert_tokens_to_ids(tokenizer.pad_token)\r\n",
        "UNK_INDEX = tokenizer.convert_tokens_to_ids(tokenizer.unk_token)\r\n",
        "\r\n",
        "label_field = Field(sequential=False, use_vocab=False, batch_first=True, dtype=torch.float)\r\n",
        "text_field = Field(use_vocab=False, tokenize=tokenizer.encode, lower=False, include_lengths=False,\r\n",
        "                   batch_first=True, fix_length=MAX_SEQ_LEN, pad_token=PAD_INDEX, unk_token=UNK_INDEX)\r\n",
        "fields_tv = [('id', None), ('keyword', text_field), ('location', text_field), ('text', text_field),\r\n",
        "             ('target', label_field)] \r\n",
        "fields_test = [('id', None), ('keyword', text_field), ('location', text_field), ('text', text_field)]\r\n",
        "\r\n",
        "train, valid = TabularDataset(path=source_folder + '/train.csv', format='CSV', fields=fields_tv, skip_header=True).split()\r\n",
        "\r\n",
        "test = TabularDataset(path=source_folder + '/test.csv', format='CSV', fields=fields_test, skip_header=True)\r\n",
        "\r\n",
        "train_iter = BucketIterator(train, batch_size=16, sort_key=lambda x: len(x.text),\r\n",
        "                            device=device, train=True, sort=True, sort_within_batch=True)\r\n",
        "valid_iter = BucketIterator(valid, batch_size=16, sort_key=lambda x: len(x.text),\r\n",
        "                            device=device, train=True, sort=True, sort_within_batch=True)\r\n",
        "test_iter = Iterator(test, batch_size=16, train=False, shuffle=False, device=device,\r\n",
        "                     sort=False)"
      ],
      "execution_count": 6,
      "outputs": [
        {
          "output_type": "display_data",
          "data": {
            "application/vnd.jupyter.widget-view+json": {
              "model_id": "2b611e0689fb4d0daebbf5bfd09675ef",
              "version_minor": 0,
              "version_major": 2
            },
            "text/plain": [
              "HBox(children=(FloatProgress(value=0.0, description='Downloading', max=231508.0, style=ProgressStyle(descripti…"
            ]
          },
          "metadata": {
            "tags": []
          }
        },
        {
          "output_type": "stream",
          "text": [
            "\n"
          ],
          "name": "stdout"
        }
      ]
    },
    {
      "cell_type": "code",
      "metadata": {
        "id": "kOpvyNt8r-Vc"
      },
      "source": [
        "class BERT(nn.Module):\r\n",
        "\r\n",
        "  def __init__(self):\r\n",
        "    super(BERT, self).__init__()\r\n",
        "\r\n",
        "    options_name = \"bert-base-uncased\"\r\n",
        "    self.encoder = BertForSequenceClassification.from_pretrained(options_name)\r\n",
        "\r\n",
        "  def forward(self, text, label):\r\n",
        "    loss, text_fea = self.encoder(text, labels=label)[:2]\r\n",
        "\r\n",
        "    return loss, text_fea"
      ],
      "execution_count": 8,
      "outputs": []
    },
    {
      "cell_type": "code",
      "metadata": {
        "id": "bK7g9HGUnXev"
      },
      "source": [
        "def save_checkpoint(save_path, model, valid_loss):\r\n",
        "\r\n",
        "  if save_path == None:\r\n",
        "    return\r\n",
        "  \r\n",
        "  state_dict = {'model_state_dict': model.state_dict(),\r\n",
        "                'valid_loss': valid_loss}\r\n",
        "\r\n",
        "  torch.save(state_dict, save_path)\r\n",
        "  print(f'Model saved to ==> {save_path}')\r\n",
        "\r\n",
        "def load_checkpoint(load_path, model):\r\n",
        "\r\n",
        "  if load_path==None:\r\n",
        "    return\r\n",
        "  \r\n",
        "  state_dict = torch.load(load_path, map_location=device)\r\n",
        "  print(f'Model loaded from <== {load_path}')\r\n",
        "\r\n",
        "  model.load_state_dict(state_dict['model_state_dict'])\r\n",
        "  return state_dict['valid_loss']\r\n",
        "\r\n",
        "\r\n",
        "def save_metrics(save_path, train_loss_list, valid_loss_list, global_steps_list):\r\n",
        "\r\n",
        "  if save_path == None:\r\n",
        "      return\r\n",
        "\r\n",
        "  state_dict = {'train_loss_list': train_loss_list,\r\n",
        "                'valid_loss_list': valid_loss_list,\r\n",
        "                'global_steps_list': global_steps_list}\r\n",
        "\r\n",
        "  torch.save(state_dict, save_path)\r\n",
        "  print(f'Model save to ==> {save_path}')\r\n",
        "\r\n",
        "\r\n",
        "def load_metrics(load_path):\r\n",
        "  if load_path == None:\r\n",
        "    return\r\n",
        "\r\n",
        "  state_dict = torch.load(load_path, map_location=device)\r\n",
        "  print(f'Model loaded from <== {load_path}')\r\n",
        "\r\n",
        "  return state_dict['train_loss_list'], state_dict['valid_loss_list'], state_dict['global_steps_list']\r\n",
        "\r\n"
      ],
      "execution_count": 9,
      "outputs": []
    },
    {
      "cell_type": "code",
      "metadata": {
        "id": "zi6HpX9NxO-N"
      },
      "source": [
        "def training(model,\r\n",
        "          optimizer,\r\n",
        "          criterion = nn.BCELoss(),\r\n",
        "          train_loader = train_iter,\r\n",
        "          valid_loader = valid_iter,\r\n",
        "          num_epochs = 5,\r\n",
        "          eval_every = len(train_iter) // 2,\r\n",
        "          file_path = destination_folder,\r\n",
        "          best_valid_loss = float(\"Inf\")):\r\n",
        "  \r\n",
        "  #initialize running values\r\n",
        "  running_loss = 0.0\r\n",
        "  valid_running_loss = 0.0\r\n",
        "  global_step = 0\r\n",
        "  train_loss_list = []\r\n",
        "  valid_loss_list = []\r\n",
        "  global_steps_list = []\r\n",
        "\r\n",
        "  #training loop\r\n",
        "  model.train()\r\n",
        "  for epoch in range(num_epochs):\r\n",
        "    for (keyword, location, text, target), _ in train_loader:\r\n",
        "      target = target.type(torch.LongTensor)\r\n",
        "      target = target.to(device)\r\n",
        "      text = text.type(torch.LongTensor)\r\n",
        "      text = text.to(device)\r\n",
        "      output = model(text, target)\r\n",
        "      loss, _ = output\r\n",
        "\r\n",
        "      optimizer.zero_grad()\r\n",
        "      loss.backward()\r\n",
        "      optimizer.step()\r\n",
        "\r\n",
        "      #update running values\r\n",
        "      running_loss += loss.item()\r\n",
        "      global_step += 1\r\n",
        "\r\n",
        "      #evaluation step\r\n",
        "      if global_step % eval_every == 0:\r\n",
        "        model.eval()\r\n",
        "        with torch.no_grad():\r\n",
        "\r\n",
        "          #validation loop\r\n",
        "          for (keyword, location, text, target), _ in valid_loader:\r\n",
        "            target = target.type(torch.LongTensor)\r\n",
        "            target = target.to(device)\r\n",
        "            text = text.type(torch.LongTensor)\r\n",
        "            text = text.to(device)\r\n",
        "            output = model(text, target)\r\n",
        "            loss, _ = output\r\n",
        "\r\n",
        "            valid_running_loss += loss.item()\r\n",
        "\r\n",
        "        #evaluation\r\n",
        "        average_train_loss = running_loss / eval_every\r\n",
        "        average_valid_loss = valid_running_loss / len(valid_loader)\r\n",
        "        train_loss_list.append(average_train_loss)\r\n",
        "        valid_loss_list.append(average_valid_loss)\r\n",
        "        global_steps_list.append(global_step)\r\n",
        "\r\n",
        "        #resetting running values\r\n",
        "        running_loss = 0.0\r\n",
        "        valid_running_loss = 0.0\r\n",
        "        model.train()\r\n",
        "\r\n",
        "        #print progress\r\n",
        "        print('Epoch [{}/{}], Step [{}/{}], Train Loss: {:.4f}, Valid Loss: {:.4f}'\r\n",
        "              .format(epoch+1, num_epochs, global_step, num_epochs*len(train_loader),\r\n",
        "                      average_train_loss, average_valid_loss))\r\n",
        "        \r\n",
        "        #checkpoint\r\n",
        "        if best_valid_loss > average_valid_loss:\r\n",
        "          best_valid_loss = average_valid_loss\r\n",
        "          save_checkpoint(file_path + '/' + 'model.pt', model, best_valid_loss)\r\n",
        "          save_metrics(file_path + '/' + 'metrics.pt', train_loss_list, valid_loss_list,\r\n",
        "                       global_steps_list)\r\n",
        "\r\n",
        "  save_metrics(file_path + '/' + 'metrics.pt', train_loss_list, valid_loss_list, global_steps_list)\r\n",
        "  print('Finished Training!')"
      ],
      "execution_count": 24,
      "outputs": []
    },
    {
      "cell_type": "code",
      "metadata": {
        "colab": {
          "base_uri": "https://localhost:8080/"
        },
        "id": "2GW4C9ZcLaUK",
        "outputId": "83c84c23-f529-4542-d8fc-23fdb79a1235"
      },
      "source": [
        "model = BERT().to(device)\r\n",
        "optimizer = optim.Adam(model.parameters(), lr=2e-5)\r\n",
        "\r\n",
        "training(model=model, optimizer=optimizer, num_epochs=2)"
      ],
      "execution_count": 31,
      "outputs": [
        {
          "output_type": "stream",
          "text": [
            "Some weights of the model checkpoint at bert-base-uncased were not used when initializing BertForSequenceClassification: ['cls.predictions.bias', 'cls.predictions.transform.dense.weight', 'cls.predictions.transform.dense.bias', 'cls.predictions.decoder.weight', 'cls.seq_relationship.weight', 'cls.seq_relationship.bias', 'cls.predictions.transform.LayerNorm.weight', 'cls.predictions.transform.LayerNorm.bias']\n",
            "- This IS expected if you are initializing BertForSequenceClassification from the checkpoint of a model trained on another task or with another architecture (e.g. initializing a BertForSequenceClassification model from a BertForPreTraining model).\n",
            "- This IS NOT expected if you are initializing BertForSequenceClassification from the checkpoint of a model that you expect to be exactly identical (initializing a BertForSequenceClassification model from a BertForSequenceClassification model).\n",
            "Some weights of BertForSequenceClassification were not initialized from the model checkpoint at bert-base-uncased and are newly initialized: ['classifier.weight', 'classifier.bias']\n",
            "You should probably TRAIN this model on a down-stream task to be able to use it for predictions and inference.\n"
          ],
          "name": "stderr"
        },
        {
          "output_type": "stream",
          "text": [
            "Epoch [1/2], Step [167/668], Train Loss: 0.5417, Valid Loss: 0.4949\n",
            "Model saved to ==> Models/model.pt\n",
            "Model save to ==> Models/metrics.pt\n",
            "Epoch [1/2], Step [334/668], Train Loss: 0.4291, Valid Loss: 0.4443\n",
            "Model saved to ==> Models/model.pt\n",
            "Model save to ==> Models/metrics.pt\n",
            "Epoch [2/2], Step [501/668], Train Loss: 0.3980, Valid Loss: 0.4416\n",
            "Model saved to ==> Models/model.pt\n",
            "Model save to ==> Models/metrics.pt\n",
            "Epoch [2/2], Step [668/668], Train Loss: 0.3305, Valid Loss: 0.4123\n",
            "Model saved to ==> Models/model.pt\n",
            "Model save to ==> Models/metrics.pt\n",
            "Model save to ==> Models/metrics.pt\n",
            "Finished Training!\n"
          ],
          "name": "stdout"
        }
      ]
    },
    {
      "cell_type": "code",
      "metadata": {
        "colab": {
          "base_uri": "https://localhost:8080/",
          "height": 296
        },
        "id": "uY2D7hMeS8Fp",
        "outputId": "0a1d1a32-5cc5-47d3-a7fe-b9c2bcb48840"
      },
      "source": [
        "train_loss_list, valid_loss_list, global_steps_list = load_metrics(destination_folder + '/metrics.pt')\r\n",
        "plt.plot(global_steps_list, train_loss_list, label='Train')\r\n",
        "plt.plot(global_steps_list, valid_loss_list, label='Valid')\r\n",
        "plt.xlabel('Global Steps')\r\n",
        "plt.ylabel('Loss')\r\n",
        "plt.legend()\r\n",
        "plt.show() "
      ],
      "execution_count": 30,
      "outputs": [
        {
          "output_type": "stream",
          "text": [
            "Model loaded from <== Models/metrics.pt\n"
          ],
          "name": "stdout"
        },
        {
          "output_type": "display_data",
          "data": {
            "image/png": "[encoded data removed]",
            "text/plain": [
              "<Figure size 432x288 with 1 Axes>"
            ]
          },
          "metadata": {
            "tags": [],
            "needs_background": "light"
          }
        }
      ]
    },
    {
      "cell_type": "code",
      "metadata": {
        "id": "B9SSw11uTCJV"
      },
      "source": [
        "#Evaluation Function\r\n",
        "\r\n",
        "def evaluate(model, test_loader):\r\n",
        "  y_pred = []\r\n",
        "  y_true = []\r\n",
        "\r\n",
        "  model.eval()\r\n",
        "  with torch.no_grad():\r\n",
        "    for (keyword, location, text, target), _ in test_loader:\r\n",
        "      \r\n",
        "      target = target.type(torch.LongTensor)\r\n",
        "      target = target.to(device)\r\n",
        "      text = text.type(torch.LongTensor)\r\n",
        "      text = text.to(device)\r\n",
        "      output = model(text, target)\r\n",
        "\r\n",
        "      _, output = output\r\n",
        "      y_pred.extend(torch.argmax(output, 1).tolist())\r\n",
        "      y_true.extend(target.tolist())\r\n",
        "\r\n",
        "  print('Classification Report:')\r\n",
        "  print(classification_report(y_true, y_pred, labels=[1,0], digits=4))\r\n",
        "\r\n",
        "  cm = confusion_matrix(y_true, y_pred, labels=[1,0])\r\n",
        "  ax = plt.subplot()\r\n",
        "  sns.heatmap(cm, annot=True, ax=ax, cmap='Blues', fmt='d')\r\n",
        "\r\n",
        "  ax.set_title('Confustion Matrix')\r\n",
        "\r\n",
        "  ax.set_xlabel('Predicted Labels')\r\n",
        "  ax.set_ylabel('True Lables')\r\n",
        "\r\n",
        "  ax.xaxis.set_ticklabels(['Not Disaster', 'Disaster'])\r\n",
        "  ax.yaxis.set_ticklabels(['Not Disaster', 'Disaster'])"
      ],
      "execution_count": 99,
      "outputs": []
    },
    {
      "cell_type": "code",
      "metadata": {
        "colab": {
          "base_uri": "https://localhost:8080/",
          "height": 587
        },
        "id": "tNhct985XAc_",
        "outputId": "a7a37250-a94d-4a7d-d6de-1a0b7bc08d49"
      },
      "source": [
        "best_model = BERT().to(device)\r\n",
        "\r\n",
        "load_checkpoint(destination_folder + '/model.pt', best_model)\r\n",
        "\r\n",
        "evaluate(best_model, valid_iter)"
      ],
      "execution_count": 100,
      "outputs": [
        {
          "output_type": "stream",
          "text": [
            "Some weights of the model checkpoint at bert-base-uncased were not used when initializing BertForSequenceClassification: ['cls.predictions.bias', 'cls.predictions.transform.dense.weight', 'cls.predictions.transform.dense.bias', 'cls.predictions.decoder.weight', 'cls.seq_relationship.weight', 'cls.seq_relationship.bias', 'cls.predictions.transform.LayerNorm.weight', 'cls.predictions.transform.LayerNorm.bias']\n",
            "- This IS expected if you are initializing BertForSequenceClassification from the checkpoint of a model trained on another task or with another architecture (e.g. initializing a BertForSequenceClassification model from a BertForPreTraining model).\n",
            "- This IS NOT expected if you are initializing BertForSequenceClassification from the checkpoint of a model that you expect to be exactly identical (initializing a BertForSequenceClassification model from a BertForSequenceClassification model).\n",
            "Some weights of BertForSequenceClassification were not initialized from the model checkpoint at bert-base-uncased and are newly initialized: ['classifier.weight', 'classifier.bias']\n",
            "You should probably TRAIN this model on a down-stream task to be able to use it for predictions and inference.\n"
          ],
          "name": "stderr"
        },
        {
          "output_type": "stream",
          "text": [
            "Model loaded from <== Models/model.pt\n",
            "Classification Report:\n",
            "              precision    recall  f1-score   support\n",
            "\n",
            "           1     0.8610    0.6995    0.7719       965\n",
            "           0     0.8067    0.9174    0.8585      1319\n",
            "\n",
            "    accuracy                         0.8253      2284\n",
            "   macro avg     0.8338    0.8084    0.8152      2284\n",
            "weighted avg     0.8296    0.8253    0.8219      2284\n",
            "\n"
          ],
          "name": "stdout"
        },
        {
          "output_type": "display_data",
          "data": {
            "image/png": "[encoded data removed]",
            "text/plain": [
              "<Figure size 432x288 with 2 Axes>"
            ]
          },
          "metadata": {
            "tags": [],
            "needs_background": "light"
          }
        }
      ]
    },
    {
      "cell_type": "code",
      "metadata": {
        "id": "H-yKCVdf3Li_"
      },
      "source": [
        "def predictions(model, test_loader):\r\n",
        "  \r\n",
        "  id = pd.read_csv(source_folder + '/test.csv', usecols=['id'], squeeze=True)\r\n",
        "  y_pred = []\r\n",
        "\r\n",
        "  model.eval()\r\n",
        "  with torch.no_grad():\r\n",
        "    for (keyword, location, text), _ in test_loader:\r\n",
        "      \r\n",
        "      target = torch.zeros(len(text)).type(torch.LongTensor)\r\n",
        "      target = target.to(device)\r\n",
        "      text = text.type(torch.LongTensor)\r\n",
        "      text = text.to(device)\r\n",
        "      output = model(text, target)\r\n",
        "\r\n",
        "      _, output = output\r\n",
        "      y_pred.extend(torch.argmax(output, 1).tolist())\r\n",
        "\r\n",
        "  data = pd.DataFrame({'id': id, 'target': pd.Series(y_pred)})\r\n",
        "  data.to_csv(destination_folder + '/predict.csv', index=False)"
      ],
      "execution_count": 134,
      "outputs": []
    }
  ]
}